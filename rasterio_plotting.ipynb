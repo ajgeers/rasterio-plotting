{
 "cells": [
  {
   "cell_type": "markdown",
   "metadata": {},
   "source": [
    "# Rasterio plotting of Landsat-8 scenes"
   ]
  },
  {
   "cell_type": "markdown",
   "metadata": {},
   "source": [
    "In this notebook, we will download bands of a Landsat-8 scene, visualize them with [rasterio's plotting module]( https://rasterio.readthedocs.io/en/latest/topics/plotting.html), and write an RGB image as rendered GeoTIFF."
   ]
  },
  {
   "cell_type": "code",
   "execution_count": null,
   "metadata": {},
   "outputs": [],
   "source": [
    "import os\n",
    "import matplotlib.pyplot as plt\n",
    "import numpy as np\n",
    "import rasterio\n",
    "from rasterio.plot import show\n",
    "import requests\n",
    "from skimage import exposure"
   ]
  },
  {
   "cell_type": "code",
   "execution_count": null,
   "metadata": {},
   "outputs": [],
   "source": [
    "%matplotlib inline"
   ]
  },
  {
   "cell_type": "markdown",
   "metadata": {},
   "source": [
    "## Download and read bands"
   ]
  },
  {
   "cell_type": "code",
   "execution_count": null,
   "metadata": {},
   "outputs": [],
   "source": [
    "landsat_url_suffixes = {'red': 'B4', 'green': 'B3', 'blue': 'B2', 'qa': 'BQA'}\n",
    "landsat_url_prefix = 'http://landsat-pds.s3.amazonaws.com/c1/L8/008/067/LC08_L1TP_008067_20190405_20190405_01_RT/LC08_L1TP_008067_20190405_20190405_01_RT_'\n",
    "landsat_urls = {k: f'{landsat_url_prefix}{v}.TIF' for k, v in landsat_url_suffixes.items()}"
   ]
  },
  {
   "cell_type": "code",
   "execution_count": null,
   "metadata": {},
   "outputs": [],
   "source": [
    "def get_bands(band_urls, data_path='data', file_format='tif'):\n",
    "    \"\"\"Download and cache spectral bands of a satellite image\n",
    "    \n",
    "    Parameters\n",
    "    ----------\n",
    "    band_urls : dict\n",
    "        URLs of individual bands: {<band_name>: <url>}\n",
    "    data_path : string (optional)\n",
    "        Location to save the data\n",
    "    file_format : string (optional)\n",
    "        File format of band\n",
    "\n",
    "    Returns\n",
    "    -------\n",
    "    bands : dict\n",
    "        Band arrays and the profile\n",
    "        \n",
    "    \"\"\"\n",
    "    if not os.path.exists(data_path):\n",
    "        os.makedirs(data_path)\n",
    "\n",
    "    bands = {}\n",
    "\n",
    "    for k, v in band_urls.items():\n",
    "        print(os.path.basename(v))\n",
    "\n",
    "        band_path = os.path.join(data_path, '{}.{}'.format(k, file_format))\n",
    "        if not os.path.exists(band_path):\n",
    "            print('Downloading...')\n",
    "            r = requests.get(v)\n",
    "            with open(band_path, 'wb') as f:\n",
    "                f.write(r.content)\n",
    "        else:\n",
    "            print('Already downloaded...')\n",
    "\n",
    "        with rasterio.open(band_path) as src:\n",
    "            print('Reading...\\n')\n",
    "            bands[k] = src.read(1)\n",
    "            if 'profile' not in bands:\n",
    "                bands['profile'] = src.profile\n",
    "\n",
    "    return bands"
   ]
  },
  {
   "cell_type": "code",
   "execution_count": null,
   "metadata": {},
   "outputs": [],
   "source": [
    "landsat_bands = get_bands(landsat_urls, data_path='data', file_format='tif')"
   ]
  },
  {
   "cell_type": "markdown",
   "metadata": {},
   "source": [
    "## Plot individual bands"
   ]
  },
  {
   "cell_type": "markdown",
   "metadata": {},
   "source": [
    "Use `rasterio.plot.show()` to plot individual bands. The `transform` argument changes the image extent to the spatial bounds of the image."
   ]
  },
  {
   "cell_type": "code",
   "execution_count": null,
   "metadata": {},
   "outputs": [],
   "source": [
    "def plot_rgb_bands(bands):\n",
    "    fig, (axr, axg, axb) = plt.subplots(1, 3, figsize=(21, 7))\n",
    "    transform = bands['profile']['transform']\n",
    "    show(bands['red'], ax=axr, cmap='Reds', title='Red band', transform=transform, vmax=np.percentile(bands['red'], 95))\n",
    "    show(bands['green'], ax=axg, cmap='Greens', title='Green band', transform=transform, vmax=np.percentile(bands['red'], 95))\n",
    "    show(bands['blue'], ax=axb, cmap='Blues', title='Blue band', transform=transform, vmax=np.percentile(bands['red'], 95))\n",
    "    plt.show()"
   ]
  },
  {
   "cell_type": "code",
   "execution_count": null,
   "metadata": {},
   "outputs": [],
   "source": [
    "plot_rgb_bands(landsat_bands)"
   ]
  },
  {
   "cell_type": "markdown",
   "metadata": {},
   "source": [
    "## Create RGB stack"
   ]
  },
  {
   "cell_type": "code",
   "execution_count": null,
   "metadata": {},
   "outputs": [],
   "source": [
    "def create_rgb_stack(bands, method='rescaling', percentile=2, clip_limit=0.03):\n",
    "    \"\"\"Create RGB stack from RGB bands\n",
    "\n",
    "    Parameters\n",
    "    ----------\n",
    "    bands : dict\n",
    "        Band arrays in {<band_name>: <array>} format, including 'red',\n",
    "        'green', 'blue', and 'qa' (optional) keys\n",
    "    method : string (optional)\n",
    "        Method for modifying the band intensities. 'rescaling' stretches\n",
    "        or shrinks the intensity range. 'clahe' applies Contrast Limited\n",
    "        Adaptive Histogram Equalization, which is an algorithm for\n",
    "        local contrast enhancement.\n",
    "    percentile : int (optional)\n",
    "        Shorthand for percentile range to compute (from percentile to\n",
    "        100 - percentile) for intensity rescaling. Required when\n",
    "        method='rescaling'.\n",
    "    clip_limit : float (optional)\n",
    "        Clipping limit. Required when method='clahe'.\n",
    "\n",
    "    Returns\n",
    "    -------\n",
    "    ndarray\n",
    "        RGB array (shape=(3, height, width), dtype='uint8')\n",
    "\n",
    "    \"\"\"\n",
    "    modified_bands = []\n",
    "    for band in [bands['red'], bands['green'], bands['blue']]:\n",
    "\n",
    "        if method == 'rescaling':\n",
    "\n",
    "            # Calculate percentiles, excluding fill pixels\n",
    "            try:\n",
    "                fill_mask = bands['qa'] == 1\n",
    "                masked_band = np.ma.masked_where(fill_mask, band)\n",
    "                masked_band = np.ma.filled(masked_band.astype('float'), np.nan)\n",
    "            except KeyError:\n",
    "                masked_band = band\n",
    "            vmin, vmax = np.nanpercentile(masked_band,\n",
    "                                          (percentile, 100 - percentile))\n",
    "\n",
    "            # Rescale to percentile range\n",
    "            modified_band = exposure.rescale_intensity(\n",
    "                band, in_range=(vmin, vmax), out_range='uint8')\n",
    "            modified_band = modified_band.astype(np.uint8)\n",
    "\n",
    "        elif method == 'clahe':\n",
    "\n",
    "            # Apply histogram equalization\n",
    "            modified_band = exposure.equalize_adapthist(\n",
    "                band, clip_limit=clip_limit)\n",
    "            modified_band = (modified_band * 255).astype(np.uint8)\n",
    "\n",
    "        modified_bands.append(modified_band)\n",
    "\n",
    "    return np.stack(modified_bands)"
   ]
  },
  {
   "cell_type": "code",
   "execution_count": null,
   "metadata": {},
   "outputs": [],
   "source": [
    "landsat_bands['rgb'] = create_rgb_stack(landsat_bands, method='clahe')"
   ]
  },
  {
   "cell_type": "markdown",
   "metadata": {},
   "source": [
    "## Plot RGB image"
   ]
  },
  {
   "cell_type": "code",
   "execution_count": null,
   "metadata": {},
   "outputs": [],
   "source": [
    "def plot_rgb_image(bands):\n",
    "    plt.figure(figsize=(10, 10))\n",
    "    show(bands['rgb'], transform=bands['profile']['transform'])"
   ]
  },
  {
   "cell_type": "code",
   "execution_count": null,
   "metadata": {},
   "outputs": [],
   "source": [
    "plot_rgb_image(landsat_bands)"
   ]
  },
  {
   "cell_type": "markdown",
   "metadata": {},
   "source": [
    "## Write RGB image"
   ]
  },
  {
   "cell_type": "markdown",
   "metadata": {},
   "source": [
    "Write the RGB image as GeoTIFF and set 'RGB' color interpretation."
   ]
  },
  {
   "cell_type": "code",
   "execution_count": null,
   "metadata": {},
   "outputs": [],
   "source": [
    "def write_rgb_image(bands, data_path='data'):\n",
    "    profile = bands['profile']\n",
    "    profile.update(driver='GTiff', dtype=rasterio.uint8, count=3, photometric='RGB')\n",
    "    rgb_path = os.path.join(data_path, 'rgb.tif')\n",
    "    with rasterio.open(rgb_path, 'w', **profile) as dst:\n",
    "        for i, band in enumerate(bands['rgb']):\n",
    "            dst.write_band(i + 1, band)"
   ]
  },
  {
   "cell_type": "code",
   "execution_count": null,
   "metadata": {},
   "outputs": [],
   "source": [
    "write_rgb_image(landsat_bands, data_path='data')"
   ]
  }
 ],
 "metadata": {
  "kernelspec": {
   "display_name": "Python 3",
   "language": "python",
   "name": "python3"
  },
  "language_info": {
   "codemirror_mode": {
    "name": "ipython",
    "version": 3
   },
   "file_extension": ".py",
   "mimetype": "text/x-python",
   "name": "python",
   "nbconvert_exporter": "python",
   "pygments_lexer": "ipython3",
   "version": "3.7.3"
  }
 },
 "nbformat": 4,
 "nbformat_minor": 2
}
